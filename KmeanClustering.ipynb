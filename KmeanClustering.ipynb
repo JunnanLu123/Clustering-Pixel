{
 "cells": [
  {
   "cell_type": "markdown",
   "metadata": {},
   "source": [
    "# Pixel Clustering"
   ]
  },
  {
   "cell_type": "markdown",
   "metadata": {},
   "source": [
    "In here, we load image and lower the pixel resolution then calculate the mean of the pixel. The goal is to find the K mean vectors \\mu_1, \\mu_2,...,\\mu_K where K is the number of cluster centers."
   ]
  },
  {
   "cell_type": "markdown",
   "metadata": {},
   "source": [
    "|![5](/image/d5.png)|![9](/image/d9.png)|\n",
    "|:---|---:|\n",
    "|Image 5|Image 9|"
   ]
  },
  {
   "cell_type": "markdown",
   "metadata": {},
   "source": [
    "### Setup the Prerequisite"
   ]
  },
  {
   "cell_type": "code",
   "execution_count": null,
   "metadata": {},
   "outputs": [],
   "source": [
    "# Clustering the pixels with k-mean\n",
    "from scipy.cluster.vq import kmeans, vq, whiten\n",
    "import scipy\n",
    "import tensorflow as tf\n",
    "import PIL\n",
    "import numpy as np"
   ]
  },
  {
   "cell_type": "markdown",
   "metadata": {},
   "source": [
    "Normalizing the image into gray scale. The image is then partitioned into Block x Block blocks."
   ]
  },
  {
   "cell_type": "code",
   "execution_count": null,
   "metadata": {},
   "outputs": [],
   "source": [
    "# Loading 28x28 pixels image data\n",
    "im = PIL.Image.open(\"d9.png\")\n",
    "# Display loaded image\n",
    "# Transfering into numpy array\n",
    "im = np.array(im)\n",
    "# Normalizing image pixel\n",
    "im = im / 255\n",
    "# Partition the image into number of M X M blocks\n",
    "block = 7\n",
    "# Get the number of blocks\n",
    "K = np.uint8(im.shape[1]/block)"
   ]
  },
  {
   "cell_type": "markdown",
   "metadata": {},
   "source": [
    "Each of the pixels contains R, G, B value. For each of block that image is partitioned to, calculating the mean color vector."
   ]
  },
  {
   "cell_type": "code",
   "execution_count": null,
   "metadata": {},
   "outputs": [],
   "source": [
    "# Feature consists of each image pixle color\n",
    "# The 3D vector storing RGB data.\n",
    "features = []\n",
    "\n",
    "# Scanning through each row and column of the image\n",
    "# Calculating the mean value of the pixel RGB values\n",
    "for row in range(block):\n",
    "    for col in range(block):\n",
    "        red = np.mean(im[row*K:(row+1)*K, col*K:(col+1)*K,0])\n",
    "        green = np.mean(im[row*K:(row+1)*K, col*K:(col+1)*K,1])\n",
    "        blue = np.mean(im[row*K:(row+1)*K, col*K:(col+1)*K,2])\n",
    "        features.append([red,green,blue])\n",
    "# Transforming into numpy array\n",
    "features = np.array(features)"
   ]
  },
  {
   "cell_type": "markdown",
   "metadata": {},
   "source": [
    "Getting pixel color centroids for each image pixel. Assigning pixels to the cluster."
   ]
  },
  {
   "cell_type": "code",
   "execution_count": null,
   "metadata": {},
   "outputs": [],
   "source": [
    "# Calculating centroids and variance from Kmean \n",
    "centroids, variance = kmeans(features,3)\n",
    "# Assigning observations to cluster\n",
    "code, distance = vq(features, centroids)"
   ]
  },
  {
   "cell_type": "code",
   "execution_count": null,
   "metadata": {},
   "outputs": [],
   "source": [
    "# Creating image with cluster labels\n",
    "codeim = code.reshape(partition,partition)\n",
    "codeim = tf.constant(codeim)\n",
    "print (codeim)\n",
    "codeim = codeim[tf.newaxis,...,tf.newaxis]\n",
    "print (codeim.shape)"
   ]
  },
  {
   "cell_type": "code",
   "execution_count": null,
   "metadata": {},
   "outputs": [],
   "source": [
    "# Resizing the image to render\n",
    "codeim = tf.image.resize(codeim,[28,28], method='nearest')\n",
    "fig = plt.figure()\n",
    "ax = fig.add_subplot()\n",
    "ax.imshow(codeim[0])\n",
    "plt.show()"
   ]
  },
  {
   "cell_type": "markdown",
   "metadata": {},
   "source": [
    "### Clustering Output"
   ]
  },
  {
   "cell_type": "markdown",
   "metadata": {},
   "source": [
    "Each of the figure below is resulting of 7x7, 14x14, and 28x28 partitions."
   ]
  },
  {
   "cell_type": "markdown",
   "metadata": {},
   "source": [
    "|![7x7](/image/Km5_7x7.png)|![14x14](/image/Km5_14x14.png)|![28x28](/image/Km5_28x28.png)|\n",
    "|:---|:---:|---:|\n",
    "|7x7|14x14|28x28|"
   ]
  },
  {
   "cell_type": "markdown",
   "metadata": {},
   "source": [
    "Kmean results for image number 5."
   ]
  },
  {
   "cell_type": "markdown",
   "metadata": {},
   "source": [
    "|![7x7](/image/Km9_7x7.png)|![14x14](/image/Km9_14x14.png)|![28x28](/image/Km9_28x28.png)|\n",
    "|:---|:---:|---:|\n",
    "|7x7|14x14|28x28|"
   ]
  },
  {
   "cell_type": "markdown",
   "metadata": {},
   "source": [
    "Kmean results for image number 9."
   ]
  }
 ],
 "metadata": {
  "kernelspec": {
   "display_name": "Python 3",
   "language": "python",
   "name": "python3"
  },
  "language_info": {
   "codemirror_mode": {
    "name": "ipython",
    "version": 3
   },
   "file_extension": ".py",
   "mimetype": "text/x-python",
   "name": "python",
   "nbconvert_exporter": "python",
   "pygments_lexer": "ipython3",
   "version": "3.8.3"
  }
 },
 "nbformat": 4,
 "nbformat_minor": 4
}
